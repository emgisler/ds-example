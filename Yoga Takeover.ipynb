{
    "cells": [
        {
            "cell_type": "markdown",
            "metadata": {
                "collapsed": true
            },
            "source": "# Yoga Studio Corporate Raider"
        },
        {
            "cell_type": "markdown",
            "metadata": {},
            "source": "## Introduction / Business Problem"
        },
        {
            "cell_type": "markdown",
            "metadata": {},
            "source": "I have been approached by a self-described \"Corporate Raider\" who dreams of owning a chain of yoga studios.  Rather than build them from the ground up, he'd like to find a group of at least 5 yoga studios that he can purchase and put together into a chain.  The customer lives in Southern California and wants the yoga chain to be based in the Los Angeles area.  \n\nThe customer is willing to build his yoga empire inland if that is all he can find, but would prefer to have it closer to the coast.  The 5 yoga studios need to be relatively close to each other, preferably in the same neighborhood.  This customer is not concerned about price because he plans to make the current owners an offer they can't refuse."
        },
        {
            "cell_type": "markdown",
            "metadata": {},
            "source": "## Data"
        },
        {
            "cell_type": "markdown",
            "metadata": {},
            "source": "The data that I will use to solve this problem will primarily come from the Foursquare API.  From Foursquare, I will need to filter results for venues in categories containing the word \"Yoga\" and pull the following information for each venue:\n\n<ul>\n<li>Name</li>\n<li>Rating<li>\n<li>Location (latitude / longitude)<li>\n<li>Address<li>\n</ul>\n\nI will also pull in a zip code list of the LA area from this website:\n\nhttp://www.laalmanac.com/communications/cm02_communities.php\n\nThis data will help determine which neighborhood each yoga studio is in."
        },
        {
            "cell_type": "code",
            "execution_count": null,
            "metadata": {},
            "outputs": [],
            "source": ""
        }
    ],
    "metadata": {
        "kernelspec": {
            "display_name": "Python 3.6",
            "language": "python",
            "name": "python3"
        },
        "language_info": {
            "codemirror_mode": {
                "name": "ipython",
                "version": 3
            },
            "file_extension": ".py",
            "mimetype": "text/x-python",
            "name": "python",
            "nbconvert_exporter": "python",
            "pygments_lexer": "ipython3",
            "version": "3.6.9"
        }
    },
    "nbformat": 4,
    "nbformat_minor": 1
}